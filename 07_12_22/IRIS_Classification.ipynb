{
  "cells": [
    {
      "cell_type": "code",
      "execution_count": null,
      "metadata": {
        "id": "YhqXxpamFARq"
      },
      "outputs": [],
      "source": [
        "!nvidia-smi # Check whether your system has a GPU"
      ]
    },
    {
      "cell_type": "code",
      "execution_count": 1,
      "metadata": {},
      "outputs": [
        {
          "name": "stdout",
          "output_type": "stream",
          "text": [
            "Package                     Version              Editable project location\n",
            "--------------------------- -------------------- -----------------------------------------------------------------------------------\n",
            "about-time                  3.1.1\n",
            "absl-py                     1.2.0\n",
            "addict                      2.4.0\n",
            "aiohttp                     3.8.1\n",
            "aiosignal                   1.3.1\n",
            "albumentations              1.2.1\n",
            "alive-progress              2.4.1\n",
            "anyio                       3.6.2\n",
            "appdirs                     1.4.4\n",
            "argon2-cffi                 21.3.0\n",
            "argon2-cffi-bindings        21.2.0\n",
            "async-timeout               4.0.2\n",
            "asyncer                     0.0.1\n",
            "asynctest                   0.13.0\n",
            "attrs                       21.4.0\n",
            "backcall                    0.2.0\n",
            "backgroundremover           0.1.9\n",
            "bbox-visualizer             0.1.0\n",
            "beautifulsoup4              4.11.1\n",
            "bleach                      5.0.1\n",
            "brotlipy                    0.7.0\n",
            "cachetools                  5.2.0\n",
            "caerus                      0.1.8\n",
            "certifi                     2022.9.24\n",
            "cffi                        1.15.0\n",
            "charset-normalizer          2.0.4\n",
            "click                       8.1.3\n",
            "coloredlogs                 15.0.1\n",
            "commandlines                0.4.1\n",
            "cryptography                37.0.1\n",
            "cupy-cuda113                10.6.0\n",
            "cycler                      0.11.0\n",
            "Cython                      0.29.32\n",
            "debugpy                     1.5.1\n",
            "decorator                   4.4.2\n",
            "defusedxml                  0.7.1\n",
            "docker-pycreds              0.4.0\n",
            "easydict                    1.9\n",
            "efficientnet-pytorch        0.7.1\n",
            "einops                      0.4.1\n",
            "entrypoints                 0.4\n",
            "fairscale                   0.4.8\n",
            "fastapi                     0.80.0\n",
            "fastjsonschema              2.16.1\n",
            "fastrlock                   0.8\n",
            "ffmpeg-python               0.2.0\n",
            "filelock                    3.7.1\n",
            "filetype                    1.1.0\n",
            "findpeaks                   2.4.3\n",
            "Flask                       2.2.2\n",
            "flatbuffers                 22.10.26\n",
            "fonttools                   4.34.4\n",
            "frozenlist                  1.3.3\n",
            "future                      0.18.2\n",
            "fvcore                      0.1.5.post20220512\n",
            "gdown                       4.6.0\n",
            "gitdb                       4.0.9\n",
            "GitPython                   3.1.27\n",
            "google-auth                 2.9.1\n",
            "google-auth-oauthlib        0.4.6\n",
            "grapheme                    0.6.0\n",
            "grpcio                      1.47.0\n",
            "h11                         0.14.0\n",
            "h5py                        3.7.0\n",
            "hsh                         1.1.0\n",
            "humanfriendly               10.0\n",
            "idna                        3.3\n",
            "ImageHash                   4.2.1\n",
            "imageio                     2.9.0\n",
            "imageio-ffmpeg              0.4.7\n",
            "importlib-metadata          4.12.0\n",
            "importlib-resources         5.9.0\n",
            "iopath                      0.1.10\n",
            "ipykernel                   6.9.1\n",
            "ipython                     7.31.1\n",
            "ipython-genutils            0.2.0\n",
            "ipywidgets                  7.7.1\n",
            "itsdangerous                2.1.2\n",
            "jedi                        0.18.1\n",
            "Jinja2                      3.1.2\n",
            "joblib                      1.1.0\n",
            "jsonschema                  4.9.0\n",
            "jupyter-bbox-widget         0.5.0\n",
            "jupyter-client              7.2.2\n",
            "jupyter-core                4.10.0\n",
            "jupyterlab-pygments         0.2.2\n",
            "jupyterlab-widgets          1.1.1\n",
            "kaleido                     0.2.1\n",
            "kiwisolver                  1.4.4\n",
            "llvmlite                    0.39.1\n",
            "lmdb                        1.3.0\n",
            "lpips                       0.1.4\n",
            "Markdown                    3.4.1\n",
            "MarkupSafe                  2.1.1\n",
            "matplotlib                  3.5.2\n",
            "matplotlib-inline           0.1.2\n",
            "mediapipe                   0.8.10.1\n",
            "mistune                     0.8.4\n",
            "mkl-fft                     1.3.1\n",
            "mkl-random                  1.2.2\n",
            "mkl-service                 2.4.0\n",
            "mne                         1.1.1\n",
            "more-itertools              8.7.0\n",
            "moviepy                     1.0.3\n",
            "mpmath                      1.2.1\n",
            "multidict                   6.0.2\n",
            "munch                       2.5.0\n",
            "mvit                        0.1                  /mnt/c/Users/Hrishikesh/Desktop/hrishi/WORK/RESEARCH/2022/MCCAI-2022/DRAC/code/mvit\n",
            "natsort                     8.1.0\n",
            "nbclient                    0.6.6\n",
            "nbconvert                   6.5.0\n",
            "nbformat                    5.4.0\n",
            "nest-asyncio                1.5.5\n",
            "networkx                    2.6.3\n",
            "notebook                    6.4.12\n",
            "numba                       0.56.4\n",
            "numpy                       1.21.6\n",
            "nvidia-cublas-cu11          2022.4.8\n",
            "nvidia-cublas-cu117         11.10.1.25\n",
            "nvidia-cuda-runtime-cu11    2022.4.25\n",
            "nvidia-cuda-runtime-cu117   11.7.60\n",
            "nvidia-cudnn-cu11           2022.5.19\n",
            "nvidia-cudnn-cu116          8.4.0.27\n",
            "nvidia-tensorrt             8.4.3.1\n",
            "oauthlib                    3.2.0\n",
            "onnx                        1.12.0\n",
            "onnxruntime                 1.12.1\n",
            "onnxruntime-gpu             1.12.1\n",
            "opencv-contrib-python       4.6.0.66\n",
            "opencv-python               4.5.4.60\n",
            "packaging                   21.3\n",
            "pactools                    0.3.1\n",
            "pandas                      1.3.5\n",
            "pandocfilters               1.5.0\n",
            "parso                       0.8.3\n",
            "pathtools                   0.1.2\n",
            "peakdetect                  1.1\n",
            "pexpect                     4.8.0\n",
            "pickleshare                 0.7.5\n",
            "Pillow                      9.2.0\n",
            "pip                         22.1.2\n",
            "pkgutil_resolve_name        1.3.10\n",
            "plotly                      5.9.0\n",
            "pooch                       1.6.0\n",
            "portalocker                 2.5.1\n",
            "pretrainedmodels            0.7.4\n",
            "proglog                     0.1.10\n",
            "prometheus-client           0.14.1\n",
            "promise                     2.3\n",
            "prompt-toolkit              3.0.20\n",
            "protobuf                    3.19.4\n",
            "psutil                      5.9.1\n",
            "ptyprocess                  0.7.0\n",
            "pyasn1                      0.4.8\n",
            "pyasn1-modules              0.2.8\n",
            "pycocotools                 2.0\n",
            "pycparser                   2.21\n",
            "pydantic                    1.10.2\n",
            "Pygments                    2.11.2\n",
            "pyiqa                       0.1.4\n",
            "pylabel                     0.1.40\n",
            "PyMatting                   1.1.8\n",
            "pyOpenSSL                   22.0.0\n",
            "pyparsing                   3.0.9\n",
            "pyrsistent                  0.18.1\n",
            "PySocks                     1.7.1\n",
            "python-dateutil             2.8.2\n",
            "python-multipart            0.0.5\n",
            "pytz                        2022.1\n",
            "PyWavelets                  1.3.0\n",
            "PyYAML                      6.0\n",
            "pyzmq                       23.2.0\n",
            "qudida                      0.0.4\n",
            "rembg                       2.0.25\n",
            "requests                    2.28.1\n",
            "requests-oauthlib           1.3.1\n",
            "rsa                         4.9\n",
            "scikit-image                0.19.3\n",
            "scikit-learn                1.0.2\n",
            "scipy                       1.7.3\n",
            "seaborn                     0.11.2\n",
            "segmentation-models-pytorch 0.3.0\n",
            "Send2Trash                  1.8.0\n",
            "sentry-sdk                  1.8.0\n",
            "setproctitle                1.2.3\n",
            "setuptools                  61.2.0\n",
            "shortuuid                   1.0.9\n",
            "simplejson                  3.17.6\n",
            "six                         1.16.0\n",
            "sklearn                     0.0\n",
            "smmap                       5.0.0\n",
            "sniffio                     1.3.0\n",
            "soupsieve                   2.3.2.post1\n",
            "starlette                   0.19.1\n",
            "sympy                       1.10.1\n",
            "tabulate                    0.8.10\n",
            "tb-nightly                  2.10.0a20220724\n",
            "tenacity                    8.0.1\n",
            "tensorboard                 2.9.1\n",
            "tensorboard-data-server     0.6.1\n",
            "tensorboard-plugin-wit      1.8.1\n",
            "tensorboardX                2.5.1\n",
            "termcolor                   1.1.0\n",
            "terminado                   0.15.0\n",
            "thop                        0.1.1.post2207130030\n",
            "threadpoolctl               3.1.0\n",
            "tifffile                    2021.11.2\n",
            "timm                        0.4.12\n",
            "tinycss2                    1.1.1\n",
            "torch                       1.12.0\n",
            "torchaudio                  0.12.0\n",
            "torchmetrics                0.9.3\n",
            "torchsummary                1.5.1\n",
            "torchvision                 0.13.0\n",
            "tornado                     6.1\n",
            "tqdm                        4.64.0\n",
            "traitlets                   5.3.0\n",
            "typing_extensions           4.1.1\n",
            "urllib3                     1.26.6\n",
            "uvicorn                     0.18.3\n",
            "waitress                    2.1.2\n",
            "wandb                       0.12.21\n",
            "watchdog                    2.1.9\n",
            "wcwidth                     0.2.5\n",
            "webencodings                0.5.1\n",
            "Werkzeug                    2.2.2\n",
            "wget                        3.2\n",
            "wheel                       0.37.1\n",
            "widgetsnbextension          3.6.1\n",
            "xgboost                     1.6.2\n",
            "yacs                        0.1.8\n",
            "yapf                        0.32.0\n",
            "yarl                        1.8.1\n",
            "zipp                        3.8.1\n"
          ]
        }
      ],
      "source": [
        "!pip list"
      ]
    },
    {
      "cell_type": "markdown",
      "metadata": {},
      "source": [
        "### Dataset Download"
      ]
    },
    {
      "cell_type": "code",
      "execution_count": null,
      "metadata": {},
      "outputs": [],
      "source": [
        "dataset_url = \"https://drive.google.com/file/d/1Ru1dLP8vXUnVbDiwQqf--qyiYkHd9C_1/view?usp=share_link\"\n",
        "!gdown 1Ru1dLP8vXUnVbDiwQqf--qyiYkHd9C_1"
      ]
    },
    {
      "cell_type": "code",
      "execution_count": null,
      "metadata": {},
      "outputs": [],
      "source": [
        "import shutil\n",
        "shutil.unpack_archive('flower_photos.tgz','./')"
      ]
    },
    {
      "cell_type": "code",
      "execution_count": null,
      "metadata": {},
      "outputs": [],
      "source": [
        "!rm -rf  flower_photos/LICENSE.txt"
      ]
    },
    {
      "cell_type": "code",
      "execution_count": null,
      "metadata": {},
      "outputs": [],
      "source": [
        "import os\n",
        "names = os.listdir('flower_photos')\n",
        "os.makedirs(os.path.join('flower_photos/train/'),exist_ok=True)\n",
        "for name in names:\n",
        "    shutil.move(f'flower_photos/{name}',f'flower_photos/train/')\n",
        "    os.makedirs(os.path.join('flower_photos/validation/',name),exist_ok=True)"
      ]
    },
    {
      "cell_type": "code",
      "execution_count": null,
      "metadata": {},
      "outputs": [],
      "source": [
        "import shutil\n",
        "train_names = os.listdir('flower_photos/train/')\n",
        "for train_name in train_names:\n",
        "    file_names = sorted(os.listdir(os.path.join('flower_photos/train/',train_name)))\n",
        "    for file_name in file_names[-100:]:\n",
        "        shutil.move(os.path.join('flower_photos/train/',train_name,file_name),os.path.join('flower_photos/validation/',train_name))"
      ]
    },
    {
      "cell_type": "markdown",
      "metadata": {
        "id": "pTN7o73CxpU0"
      },
      "source": [
        "# Import packages"
      ]
    },
    {
      "cell_type": "code",
      "execution_count": null,
      "metadata": {
        "id": "9NoduTJIqEvv"
      },
      "outputs": [],
      "source": [
        "import numpy as np\n",
        "import cv2\n",
        "import torch \n",
        "import torchvision\n",
        "import matplotlib.pyplot as plt\n",
        "from time import time\n",
        "from torchvision import datasets, transforms\n",
        "from torch import nn, optim\n",
        "from tqdm import tqdm"
      ]
    },
    {
      "cell_type": "markdown",
      "metadata": {
        "id": "d_ycU-vBtaCv"
      },
      "source": [
        "numpy \n",
        "- A scientific computing library\n",
        "- Supports array operations and manipulations\n",
        "- Built-in functions like array sum, diff, mean, average, min, max etc.\n",
        "\n",
        "cv2\n",
        "- To read and write images\n",
        "- To perform basic vision algorithms like RGB to HSV, Gaussian Blur, Dilation, Histogram, Shape detection etc.\n",
        "\n",
        "torch\n",
        "- The open source ML framework for deep learning\n",
        "- Has a pythonic interface\n",
        "\n",
        "torchvision\n",
        "- consists of popular datasets, model architectures, and common image transformations for computer vision\n",
        "- Contains built in data augmentations\n",
        "\n",
        "matplotlib\n",
        "- It is a data visualization library for python\n",
        "- It supports graphical plotting and viewing images and other data\n",
        "\n",
        "nn\n",
        "- The base module with which we can create and train neural nets\n",
        "- Provides built-in classes for common neural network layers like Conv, Pooling, Activations, Normalizations, Dropout etc.\n",
        "\n",
        "optim\n",
        "- It is a package for implementing various optimization algorithms for model training\n",
        "- Built-in optimizers like SGD, Adam, Adagrad, RMSprop etc.\n",
        "\n",
        "tqdm\n",
        "- It is a library used to display a progress bar for loops"
      ]
    },
    {
      "cell_type": "markdown",
      "metadata": {
        "id": "k8Qbwuzdx0dH"
      },
      "source": [
        "# Preprocess inputs"
      ]
    },
    {
      "cell_type": "code",
      "execution_count": null,
      "metadata": {
        "id": "rVcCk-6TyvEy"
      },
      "outputs": [],
      "source": [
        "transform = transforms.Compose([transforms.Resize((224,224)),transforms.ToTensor()]) # Define the set of transformations to be applied on the input data"
      ]
    },
    {
      "cell_type": "code",
      "execution_count": null,
      "metadata": {
        "id": "5lFD-xj8qWVc"
      },
      "outputs": [],
      "source": [
        "# transform = transforms.Compose([transforms.ToTensor(),transforms.Normalize((0.5,), (0.5,)),])"
      ]
    },
    {
      "cell_type": "markdown",
      "metadata": {
        "id": "3xeJCeo3yE9Z"
      },
      "source": [
        "ToTensor()\n",
        " - converts the image with a pixel range of [0, 255] to a PyTorch FloatTensor of shape (C, H, W) with a range [0.0, 1.0]"
      ]
    },
    {
      "cell_type": "markdown",
      "metadata": {
        "id": "1uzgtjA4xCnv"
      },
      "source": [
        "Normalize() \n",
        "- output[channel] = (input[channel] - mean[channel]) / std[channel]\n",
        "\n",
        "- Normalization helps get data within a range and reduces the skewness which helps learn faster and better. \n",
        "- Normalization can also tackle the diminishing and exploding gradients problems."
      ]
    },
    {
      "cell_type": "markdown",
      "metadata": {
        "id": "7dZes3DQzlsm"
      },
      "source": [
        "# Custom Dataloaders using Image Folder function"
      ]
    },
    {
      "cell_type": "markdown",
      "metadata": {
        "id": "p_oL6gEw01fO"
      },
      "source": [
        "- Combines a dataset and a sampler\n",
        "- Provides an iterable over the given dataset\n",
        "- Supports single- or multi-process loading\n",
        "- Customizing loading order\n",
        "- Automatic batching"
      ]
    },
    {
      "cell_type": "code",
      "execution_count": null,
      "metadata": {},
      "outputs": [],
      "source": [
        "trainset = datasets.ImageFolder(root ='flower_photos/train',transform=transform)\n",
        "trainloader = torch.utils.data.DataLoader(trainset, batch_size=8, shuffle=True)"
      ]
    },
    {
      "cell_type": "code",
      "execution_count": null,
      "metadata": {
        "id": "v-258nSWz5i9"
      },
      "outputs": [],
      "source": [
        "valset = datasets.ImageFolder(root ='flower_photos/validation',transform=transform)\n",
        "valloader = torch.utils.data.DataLoader(valset, batch_size=8, shuffle=True)"
      ]
    },
    {
      "cell_type": "code",
      "execution_count": null,
      "metadata": {
        "id": "nDZYc7_xz-tM"
      },
      "outputs": [],
      "source": [
        "dataiter = iter(trainloader)"
      ]
    },
    {
      "cell_type": "markdown",
      "metadata": {
        "id": "7Cxx5qFSCMdl"
      },
      "source": [
        "Now that we have an iterator, let's visualize our data"
      ]
    },
    {
      "cell_type": "code",
      "execution_count": null,
      "metadata": {
        "id": "J9Qg2ipB0Acv"
      },
      "outputs": [],
      "source": [
        "images, gt_labels = dataiter.next() # The first minibatch of data"
      ]
    },
    {
      "cell_type": "code",
      "execution_count": null,
      "metadata": {
        "id": "MVoe0YEL0Dtu"
      },
      "outputs": [],
      "source": [
        "print(images.shape)\n",
        "print(gt_labels.shape)"
      ]
    },
    {
      "cell_type": "code",
      "execution_count": null,
      "metadata": {
        "id": "rTOnzN15uaN8"
      },
      "outputs": [],
      "source": [
        " # Visualize an image sample\n",
        "plt.imshow((images[2].squeeze()).permute(1,2,0).numpy())"
      ]
    },
    {
      "cell_type": "code",
      "execution_count": null,
      "metadata": {},
      "outputs": [],
      "source": [
        "classes = trainset.classes"
      ]
    },
    {
      "cell_type": "code",
      "execution_count": null,
      "metadata": {
        "id": "NBvtMO96ud6w"
      },
      "outputs": [],
      "source": [
        "# Visualize all images in the minibatch\n",
        "figure = plt.figure()\n",
        "total_samples = 8\n",
        "for index in range(1,total_samples+1):\n",
        "    ax = plt.subplot(2, 4, index)\n",
        "    ax.set_xlabel(classes[gt_labels[index-1].item()])\n",
        "    # plt.axis('off')\n",
        "    plt.imshow(images[index-1].squeeze().permute(1,2,0).numpy())"
      ]
    },
    {
      "cell_type": "code",
      "execution_count": null,
      "metadata": {
        "id": "9u1I-5qDGiQV"
      },
      "outputs": [],
      "source": [
        "# Visualize the Ground truth labels\n",
        "print(gt_labels)"
      ]
    },
    {
      "cell_type": "code",
      "execution_count": null,
      "metadata": {
        "id": "qr_TSdxjGo5k"
      },
      "outputs": [],
      "source": [
        "# Visualize the onehot encoding of the labels\n",
        "onehot_labels = nn.functional.one_hot(gt_labels, num_classes=10)\n",
        "print(onehot_labels)"
      ]
    },
    {
      "cell_type": "markdown",
      "metadata": {},
      "source": [
        "# Let's build our AlexNet\n",
        "![](assets/AlexNet.jpeg)"
      ]
    },
    {
      "cell_type": "code",
      "execution_count": null,
      "metadata": {},
      "outputs": [],
      "source": [
        "class AlexNet(nn.Module):\n",
        "    def __init__(self, num_classes: int = 10, dropout: float = 0.5) -> None:\n",
        "        super().__init__()\n",
        "        self.features = nn.Sequential(\n",
        "            nn.Conv2d(3, 96, kernel_size=11, stride=4, padding=2),\n",
        "            nn.ReLU(inplace=True),\n",
        "            nn.MaxPool2d(kernel_size=3, stride=2),\n",
        "            nn.Conv2d(96, 256, kernel_size=5, padding=2),\n",
        "            nn.ReLU(inplace=True),\n",
        "            nn.MaxPool2d(kernel_size=3, stride=2),\n",
        "            nn.Conv2d(256, 384, kernel_size=3, padding=1),\n",
        "            nn.ReLU(inplace=True),\n",
        "            nn.Conv2d(384, 256, kernel_size=3, padding=1),\n",
        "            nn.ReLU(inplace=True),\n",
        "            nn.Conv2d(256, 256, kernel_size=3, padding=1),\n",
        "            nn.ReLU(inplace=True),\n",
        "            nn.MaxPool2d(kernel_size=3, stride=2),\n",
        "        )\n",
        "        self.avgpool = nn.AdaptiveAvgPool2d((6, 6))\n",
        "        self.flatten = nn.Flatten()\n",
        "        self.classifier = nn.Sequential(\n",
        "            nn.Dropout(p=dropout),\n",
        "            nn.Linear(256 * 6 * 6, 4096),\n",
        "            nn.ReLU(inplace=True),\n",
        "            nn.Dropout(p=dropout),\n",
        "            nn.Linear(4096, 4096),\n",
        "            nn.ReLU(inplace=True),\n",
        "            nn.Linear(4096, num_classes),\n",
        "        )\n",
        "\n",
        "    def forward(self, x: torch.Tensor) -> torch.Tensor:\n",
        "        x = self.features(x)\n",
        "        x = self.avgpool(x)\n",
        "        x = torch.flatten(x, 1)\n",
        "        x = self.classifier(x)\n",
        "        return x"
      ]
    },
    {
      "cell_type": "code",
      "execution_count": null,
      "metadata": {
        "id": "CIT4IGppv_ql"
      },
      "outputs": [],
      "source": [
        "model = AlexNet()"
      ]
    },
    {
      "cell_type": "code",
      "execution_count": null,
      "metadata": {
        "id": "ujZRzrUDu2yp"
      },
      "outputs": [],
      "source": [
        "print(model)"
      ]
    },
    {
      "cell_type": "markdown",
      "metadata": {},
      "source": [
        "### Model Training"
      ]
    },
    {
      "cell_type": "code",
      "execution_count": null,
      "metadata": {},
      "outputs": [],
      "source": [
        "model = model.cuda()\n",
        "criterion = nn.CrossEntropyLoss()\n",
        "optimizer = optim.SGD(model.parameters(), lr=0.003, momentum=0.9)\n",
        "epochs = 100\n",
        "pbar = tqdm(range(epochs))\n",
        "best_accuracy = 0.0"
      ]
    },
    {
      "cell_type": "code",
      "execution_count": null,
      "metadata": {},
      "outputs": [],
      "source": [
        "time_init = time() # record the time at which training started\n",
        "\n",
        "for e in pbar:\n",
        "    running_loss = 0\n",
        "    for images, gt_labels in tqdm(trainloader):\n",
        "        images = images.cuda()\n",
        "        gt_labels = gt_labels.cuda()\n",
        "    \n",
        "        # Training pass\n",
        "        optimizer.zero_grad() # reset the gradients of model weights\n",
        "        \n",
        "        output = model(images)\n",
        "        loss = criterion(output, gt_labels)\n",
        "        \n",
        "        # Calculate the gradients of the learnable parameters\n",
        "        loss.backward()\n",
        "        \n",
        "        # Modify the model weights as per the gradients\n",
        "        optimizer.step()\n",
        "        \n",
        "        running_loss += loss.item()\n",
        "    average_loss = running_loss/len(trainloader)\n",
        "    \n",
        "    # perform validation\n",
        "    correct_count = 0\n",
        "    total_count = 0\n",
        "    for images,gt_labels in valloader:\n",
        "      pred_probs = model(images.cuda())\n",
        "      predicted_labels = torch.argmax(pred_probs, dim=-1)\n",
        "\n",
        "      for i in range(len(gt_labels)):\n",
        "        if predicted_labels[i]==gt_labels[i]:\n",
        "          correct_count = correct_count+1\n",
        "        total_count = total_count+1       \n",
        "\n",
        "    accuracy = correct_count/total_count\n",
        "    \n",
        "    # save the model weights\n",
        "    if accuracy>=best_accuracy:\n",
        "      best_accuracy = accuracy\n",
        "      torch.save(model, './best_flower_model.pt')\n",
        "    torch.save(model, './last_flower_model.pt') \n",
        "\n",
        "    print(f\"\\nEpoch {e} - Training loss: {average_loss}, val accuracy : {accuracy}\")\n",
        "print(f\"Training Time (in minutes) = {(time()-time_init)/60}\")"
      ]
    },
    {
      "cell_type": "markdown",
      "metadata": {},
      "source": [
        "### Model Validation"
      ]
    },
    {
      "cell_type": "code",
      "execution_count": null,
      "metadata": {},
      "outputs": [],
      "source": [
        "images, gt_labels = next(iter(valloader))\n",
        "\n",
        "with torch.no_grad():\n",
        "    pred_probs = model(images.cuda())\n",
        "\n",
        "predicted_labels = torch.argmax(pred_probs, dim=-1)"
      ]
    },
    {
      "cell_type": "markdown",
      "metadata": {},
      "source": [
        "### Result Visualisation"
      ]
    },
    {
      "cell_type": "code",
      "execution_count": null,
      "metadata": {},
      "outputs": [],
      "source": [
        "# Visualize all images in the minibatch\n",
        "figure = plt.figure()\n",
        "total_samples = 8\n",
        "for index in range(1,total_samples+1):\n",
        "    ax = plt.subplot(2, 4, index)\n",
        "    ax.set_xlabel(classes[gt_labels[index-1].item()])\n",
        "    # plt.axis('off')\n",
        "    plt.imshow(images[index-1].squeeze().permute(1,2,0).numpy())"
      ]
    },
    {
      "cell_type": "code",
      "execution_count": null,
      "metadata": {},
      "outputs": [],
      "source": [
        "print(f\"Ground truth labels : {gt_labels}\")"
      ]
    },
    {
      "cell_type": "code",
      "execution_count": null,
      "metadata": {},
      "outputs": [],
      "source": [
        "print(f\"Predicted labels : {predicted_labels}\",)"
      ]
    },
    {
      "cell_type": "code",
      "execution_count": null,
      "metadata": {},
      "outputs": [],
      "source": [
        "# Visualize all images in the minibatch\n",
        "figure = plt.figure()\n",
        "total_samples = 8\n",
        "for index in range(1,total_samples+1):\n",
        "    ax = plt.subplot(2, 4, index)\n",
        "    ax.set_xlabel(classes[predicted_labels[index-1].item()])\n",
        "    # plt.axis('off')\n",
        "    plt.imshow(images[index-1].squeeze().permute(1,2,0).numpy())"
      ]
    },
    {
      "cell_type": "code",
      "execution_count": null,
      "metadata": {},
      "outputs": [],
      "source": [
        "correct_count = 0\n",
        "total_count = 0\n",
        "for i in range(len(gt_labels)):\n",
        "  img = images[i]\n",
        "  if predicted_labels[i]==gt_labels[i]:\n",
        "    correct_count = correct_count+1\n",
        "  total_count = total_count+1\n",
        "accuracy = correct_count/total_count\n",
        "print(f\"The accuracy on the minibatch is : {accuracy}\")"
      ]
    },
    {
      "cell_type": "code",
      "execution_count": null,
      "metadata": {},
      "outputs": [],
      "source": [
        "correct_count = 0\n",
        "total_count = 0\n",
        "\n",
        "for images,gt_labels in valloader:\n",
        "  pred_probs = model(images.cuda())\n",
        "  predicted_labels = torch.argmax(pred_probs, dim=-1)\n",
        "\n",
        "  for i in range(len(gt_labels)):\n",
        "    if predicted_labels[i]==gt_labels[i]:\n",
        "      correct_count = correct_count+1\n",
        "    total_count = total_count+1       \n",
        "\n",
        "accuracy = correct_count/total_count\n",
        "print(f\"Number of validation images = {total_count}\\n\")\n",
        "print(f\"Model Accuracy = {accuracy}\")"
      ]
    },
    {
      "cell_type": "code",
      "execution_count": null,
      "metadata": {},
      "outputs": [],
      "source": []
    }
  ],
  "metadata": {
    "colab": {
      "collapsed_sections": [
        "wCn3pKjc_iTF",
        "NfSyK7w6_7Ba",
        "VFOu2DDNPAju",
        "GgZgs_bPQMwg"
      ],
      "private_outputs": true,
      "provenance": []
    },
    "gpuClass": "standard",
    "kernelspec": {
      "display_name": "Python 3.7.13 ('torchenv')",
      "language": "python",
      "name": "python3"
    },
    "language_info": {
      "codemirror_mode": {
        "name": "ipython",
        "version": 3
      },
      "file_extension": ".py",
      "mimetype": "text/x-python",
      "name": "python",
      "nbconvert_exporter": "python",
      "pygments_lexer": "ipython3",
      "version": "3.7.13"
    },
    "vscode": {
      "interpreter": {
        "hash": "b0c9fb112d4624b5e4fa7b873160be5d487c9f44e6948be985e0928a4033755e"
      }
    }
  },
  "nbformat": 4,
  "nbformat_minor": 0
}
